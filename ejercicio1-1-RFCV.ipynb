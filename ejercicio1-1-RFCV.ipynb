{
 "cells": [
  {
   "cell_type": "markdown",
   "id": "b015a19f",
   "metadata": {},
   "source": [
    "# Actividad 1 por Python plus\n"
   ]
  },
  {
   "cell_type": "markdown",
   "id": "b0d0ad1d",
   "metadata": {},
   "source": [
    "## Parte I: resolvé el siguiente desafío:"
   ]
  },
  {
   "cell_type": "markdown",
   "id": "a1b0749f",
   "metadata": {},
   "source": [
    "EJERCICIO 5: dado el archivo denominado [BBB_nuevo.csv](https://archivos.linti.unlp.edu.ar/index.php/s/q9b3rCrlhOS1yWU) que contiene los accesos al recurso BigBlueButton que usamos para las clases virtuales de la materia, se desea generar una función que retorne qué usuarios vieron las grabaciones (Evento: \"Grabación vista\") desde la Facultad. Se considera que esto es así, si la IP comienza con \"163.10.\"\n"
   ]
  },
  {
   "cell_type": "code",
   "execution_count": 8,
   "id": "5021bb7c",
   "metadata": {},
   "outputs": [
    {
     "data": {
      "text/plain": [
       "<function __main__.retornar_grabacion_usuarios()>"
      ]
     },
     "execution_count": 8,
     "metadata": {},
     "output_type": "execute_result"
    }
   ],
   "source": [
    "#Solución\n",
    "import csv\n",
    "\n",
    "archivo = open('BBB_nuevo.csv', \"r\")\n",
    "lector = csv.DictReader(archivo, delimiter=',')\n",
    "\n",
    "def retornar_grabacion_usuarios():\n",
    "     for linea in lector:\n",
    "         if linea[\"Nombre evento\"] == \"Grabacion vista\" and linea[\"Direccion IP\"].startswith(163.10):\n",
    "             return print(linea[\"Nombre completo del usuario\"])\n",
    "     archivo.close()\n",
    "\n",
    "retornar_grabacion_usuarios\n"
   ]
  }
 ],
 "metadata": {
  "kernelspec": {
   "display_name": "Python 3 (ipykernel)",
   "language": "python",
   "name": "python3"
  },
  "language_info": {
   "codemirror_mode": {
    "name": "ipython",
    "version": 3
   },
   "file_extension": ".py",
   "mimetype": "text/x-python",
   "name": "python",
   "nbconvert_exporter": "python",
   "pygments_lexer": "ipython3",
   "version": "3.10.2"
  }
 },
 "nbformat": 4,
 "nbformat_minor": 5
}
