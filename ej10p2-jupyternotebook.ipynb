{
 "cells": [
  {
   "cell_type": "markdown",
   "metadata": {},
   "source": [
    " # SEMINARIO DE LENGUAJES - PYTHON 2022\n",
    " # EJERCICIO 10 - PRACTICA 2 \n",
    " # RICARDO FEDERICO COLANTONIO VON SALDERN "
   ]
  },
  {
   "cell_type": "markdown",
   "metadata": {},
   "source": [
    "### EXPLICACION EJERCICIO 10\n",
    "\n"
   ]
  },
  {
   "cell_type": "markdown",
   "metadata": {},
   "source": [
    "#### Dado tres archivos llamados nombres_1.txt, eval1.txt y eval2.txt,tenemos que manipular su contenido para generar una estructura que contenga los nombres de los estudiantes y la suma de sus notas y luego calcular el promedio de notas totales.Primero vamos a empezar a leer los archivos y declarar la estructura que vamos a utilizar para guardar los datos  "
   ]
  },
  {
   "cell_type": "code",
   "execution_count": null,
   "metadata": {},
   "outputs": [],
   "source": [
    "nombres = open('nombres_1.txt', 'r' , encoding='utf8')\n",
    "evaluacion_1 = open('eval1.txt', 'r' , encoding='utf8')\n",
    "evaluacion_2 = open('eval2.txt', 'r' , encoding='utf8')\n",
    "lista ={}"
   ]
  },
  {
   "cell_type": "markdown",
   "metadata": {},
   "source": [
    "#### Ponemos los archivos en modo 'r' o lectura para evitar modificar el archivo mientras lo recorremos y durante la ejecuccion se cierra cuando ya no mas se necesita usar y evitamos poner el file_name.close()\n",
    "\n",
    "#### Ahora vamos a guardar los nombres y la suma de las notas en la estructura"
   ]
  },
  {
   "cell_type": "code",
   "execution_count": null,
   "metadata": {},
   "outputs": [],
   "source": [
    "for nombres,evaluacion_1,evaluacion_2 in zip(nombres,evaluacion_1,evaluacion_2):\n",
    "     lista[nombres.strip('\\n,\\' ')] = int(evaluacion_1.strip('\\n, ')) + int(evaluacion_2.strip('\\n, '))\n",
    "\n",
    "print('Lista de nombres de alumnos y sus notas sumadas de las evaluaciones: ')\n",
    "print(lista)"
   ]
  },
  {
   "cell_type": "markdown",
   "metadata": {},
   "source": [
    "#### Utilizamos el zip(nombres,evaluacion_1,evaluacion_2) para comprimir los datos de los tres archivos en una sola lista y abajo usamos el strip('\\n, ') para cortar los espacios del texto ya que el archivo tiene un nombre y deja un espacio gigante y luego baja a la linea de abajo y sucede lo mismo hasta el fin del archivo\n",
    "\n",
    "#### Ahora vamos a calcular el promedio y luego informar los alumnos que tienen notas menores al promedio"
   ]
  },
  {
   "cell_type": "code",
   "execution_count": null,
   "metadata": {},
   "outputs": [],
   "source": [
    "prom= 0\n",
    "cant = 0\n",
    "for alumno in lista:\n",
    "      cant += lista[alumno]\n",
    "\n",
    "prom = cant / len(lista) \n",
    "\n",
    "print(f'El promedio de notas es: {prom}')"
   ]
  },
  {
   "cell_type": "markdown",
   "metadata": {},
   "source": [
    "#### Utilizamos el calculo simple de promedio para calcular la nota \n",
    "\n",
    "#### Ahora vamos al ultimo punto del ejercicio que es informar los nombres de los alumnos que tienen notas menores al promedio"
   ]
  },
  {
   "cell_type": "code",
   "execution_count": null,
   "metadata": {},
   "outputs": [],
   "source": [
    "print('Lista de alumnos con notas menores al promedio:')\n",
    "for alumno in lista:\n",
    "      if lista[alumno] < prom:\n",
    "           print(alumno)"
   ]
  },
  {
   "cell_type": "markdown",
   "metadata": {},
   "source": [
    "#### Utilizamos un for para recorrer la lista e utilizamos un if en el que la lista en la posicion del nombre del alumno nos da la suma de las notas y verifica si es menor al promedio y entonces informa el nombre."
   ]
  }
 ],
 "metadata": {
  "language_info": {
   "name": "python"
  },
  "orig_nbformat": 4
 },
 "nbformat": 4,
 "nbformat_minor": 2
}
